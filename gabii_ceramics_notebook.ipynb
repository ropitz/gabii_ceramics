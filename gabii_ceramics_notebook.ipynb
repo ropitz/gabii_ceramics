{
 "cells": [
  {
   "cell_type": "code",
   "execution_count": null,
   "metadata": {},
   "outputs": [],
   "source": [
    "# get the tools\n",
    "import pandas as pd"
   ]
  },
  {
   "cell_type": "code",
   "execution_count": null,
   "metadata": {},
   "outputs": [],
   "source": [
    "# load all the data\n",
    "ceramics= pd.read_csv(\"https://raw.githubusercontent.com/ropitz/gabii_ceramics/master/all_ceramics2019.csv\")\n",
    "ceramics.head()\n"
   ]
  },
  {
   "cell_type": "code",
   "execution_count": null,
   "metadata": {},
   "outputs": [],
   "source": [
    "#write the SU numbers you want in the SU list between the brackets\n",
    "SU = [2056,2053,2058]\n",
    "SU_selection = ceramics.loc[ceramics['SU_ID'].isin(SU)]\n",
    "SU_selection"
   ]
  },
  {
   "cell_type": "code",
   "execution_count": null,
   "metadata": {},
   "outputs": [],
   "source": [
    "# if it looks ok, write to a local file. Change the name of the file to whatever you want\n",
    "SU_selection.to_csv('C:\\\\temp\\\\myresult1.csv')"
   ]
  },
  {
   "cell_type": "code",
   "execution_count": null,
   "metadata": {},
   "outputs": [],
   "source": [
    "#write the SU number greater than and SU number less than to specify a range\n",
    "SU_selection2 = ceramics[(ceramics['SU_ID'] > 2000) & (ceramics['SU_ID'] < 2100) ]\n",
    "SU_selection2"
   ]
  },
  {
   "cell_type": "code",
   "execution_count": null,
   "metadata": {},
   "outputs": [],
   "source": [
    "# if it looks ok, write to a local file. Change the name of the file to whatever you want\n",
    "SU_selection2.to_csv('C:\\\\temp\\\\myresult2.csv')"
   ]
  }
 ],
 "metadata": {
  "kernelspec": {
   "display_name": "Python 3",
   "language": "python",
   "name": "python3"
  },
  "language_info": {
   "codemirror_mode": {
    "name": "ipython",
    "version": 3
   },
   "file_extension": ".py",
   "mimetype": "text/x-python",
   "name": "python",
   "nbconvert_exporter": "python",
   "pygments_lexer": "ipython3",
   "version": "3.6.5"
  }
 },
 "nbformat": 4,
 "nbformat_minor": 2
}
